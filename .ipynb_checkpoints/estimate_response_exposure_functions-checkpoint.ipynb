{
 "cells": [
  {
   "cell_type": "markdown",
   "metadata": {},
   "source": [
    "# Causal effect of prenatal exposure to metal mixtures on neurodevelopmental outcomes\n"
   ]
  },
  {
   "cell_type": "code",
   "execution_count": 3,
   "metadata": {
    "collapsed": true
   },
   "outputs": [],
   "source": [
    "# Load required libraries.\n",
    "suppressMessages(library(bkmr))\n",
    "suppressMessages(library(ggplot2))"
   ]
  },
  {
   "cell_type": "code",
   "execution_count": 4,
   "metadata": {
    "collapsed": false
   },
   "outputs": [],
   "source": [
    "# Set path and load data.\n",
    "DATA.PATH <- \"/Users/cathylee/Documents/Harvard/Postdoc/EarlySigns/earlyS.data/bgd_data.txt\"\n",
    "data <- read.table(DATA.PATH, header = TRUE)"
   ]
  },
  {
   "cell_type": "code",
   "execution_count": 5,
   "metadata": {
    "collapsed": false
   },
   "outputs": [],
   "source": [
    "# Data inspection.\n",
    "#str(data)\n",
    "data$age_sq <- data$age_c ^ 2\n",
    "attach(data)"
   ]
  },
  {
   "cell_type": "code",
   "execution_count": 6,
   "metadata": {
    "collapsed": false
   },
   "outputs": [],
   "source": [
    "# Set up response, exposure and covariate vector and matrices.\n",
    "df <- na.omit(data.frame(repro_id, momage_c, age_c, age_sq, smokenv, sex, momeducd, momIQ_z, homescore_z, protein, \n",
    "                         ccs_z, lcs_z, mcs_z, as_ln_c, mn_ln_c, pb_ln_c))\n",
    "response.exposure.variables <- c(\"repro_id\", \"ccs_z\", \"as_ln_c\", \"mn_ln_c\", \"pb_ln_c\")\n",
    "response <- df$ccs_z\n",
    "exposures <- as.matrix(df[, response.exposure.variables])\n",
    "covariates <- as.matrix(df[, !names(df) %in% response.exposure.variables])"
   ]
  }
 ],
 "metadata": {
  "kernelspec": {
   "display_name": "R",
   "language": "R",
   "name": "ir"
  },
  "language_info": {
   "codemirror_mode": "r",
   "file_extension": ".r",
   "mimetype": "text/x-r-source",
   "name": "R",
   "pygments_lexer": "r",
   "version": "3.3.0"
  }
 },
 "nbformat": 4,
 "nbformat_minor": 0
}
